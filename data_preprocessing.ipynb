{
 "cells": [
  {
   "cell_type": "code",
   "execution_count": 2,
   "metadata": {},
   "outputs": [],
   "source": [
    "import pandas as pd\n",
    "import numpy as np"
   ]
  },
  {
   "cell_type": "code",
   "execution_count": 3,
   "metadata": {},
   "outputs": [
    {
     "name": "stdout",
     "output_type": "stream",
     "text": [
      "          0         1    2\n",
      "0  0.562178  0.342779  1.0\n",
      "1  0.965500 -0.180960  1.0\n",
      "2  0.812396  0.088968  1.0\n",
      "3  0.719061  0.148323  1.0\n",
      "4  0.409213 -0.138452  1.0\n"
     ]
    }
   ],
   "source": [
    "# Synthetic data\n",
    "features = np.concatenate(\n",
    "    (np.load(\"data/synthetic/X_train.npy\").T, np.load(\"data/synthetic/X_test.npy\").T),\n",
    "    axis=0,\n",
    ")\n",
    "vectors = np.concatenate(\n",
    "    (np.load(\"data/synthetic/y_train.npy\"), np.load(\"data/synthetic/y_test.npy\")),\n",
    "    axis=0,\n",
    ")\n",
    "df = np.concatenate((features, vectors), axis=1)\n",
    "df = pd.DataFrame(df, index=None, columns=None)\n",
    "print(df.head(5))\n",
    "df.to_csv(\"data/synthetic.csv\", header=False, index=False)"
   ]
  },
  {
   "cell_type": "code",
   "execution_count": 4,
   "metadata": {},
   "outputs": [
    {
     "name": "stdout",
     "output_type": "stream",
     "text": [
      "     0    1    2    3    4    5    6    7    8  9\n",
      "0  0.0  0.0  0.0  0.0  0.0  0.0  1.0  0.0  0.0 -1\n",
      "1  0.0  0.2  0.0  0.1  0.0  0.0  0.5  1.0  0.2 -1\n",
      "2  0.0  0.2  0.0  0.1  0.0  0.0  0.5  0.0  0.0 -1\n",
      "3  0.0  0.4  0.5  0.2  0.0  0.0  0.5  1.0  0.4 -1\n",
      "4  0.0  0.2  0.0  0.3  0.0  0.0  0.5  1.0  0.6 -1\n"
     ]
    },
    {
     "name": "stderr",
     "output_type": "stream",
     "text": [
      "/tmp/ipykernel_128660/3609761608.py:15: FutureWarning: Downcasting behavior in `replace` is deprecated and will be removed in a future version. To retain the old behavior, explicitly call `result.infer_objects(copy=False)`. To opt-in to the future behavior, set `pd.set_option('future.no_silent_downcasting', True)`\n",
      "  df[df.shape[1] - 1] = df[df.shape[1] - 1].replace({\"no\": -1, \"yes\": 1})\n"
     ]
    }
   ],
   "source": [
    "# Breast cancer dataset\n",
    "df = pd.read_csv(\"data/breast_cancer/breast-cancer.data\", header=None, index_col=None)\n",
    "for idx in range(df.shape[1] - 1):\n",
    "    try:\n",
    "        float(df[idx][0])\n",
    "    except ValueError:\n",
    "        df[idx] = pd.factorize(df[idx])[0]\n",
    "\n",
    "    col = df[idx].to_numpy()\n",
    "    min_ = np.min(col)\n",
    "    max_ = np.max(col)\n",
    "    col = (col - min_) / (max_ - min_ + 1e-9)\n",
    "    df[idx] = pd.Series(col, index=None)\n",
    "\n",
    "df[df.shape[1] - 1] = df[df.shape[1] - 1].replace({\"no\": -1, \"yes\": 1})\n",
    "# df = df.to_numpy()\n",
    "# df[:, :-1] = df[:, :-1]/np.max(np.linalg.norm(df[:, :-1], axis=1))\n",
    "# df = pd.DataFrame(df, index=None, columns=None)\n",
    "\n",
    "if not isinstance(df, pd.DataFrame):\n",
    "    print(\"Error\")\n",
    "    exit()\n",
    "print(df.head(5))\n",
    "df.to_csv(\"data/bc.csv\", header=False, index=False)"
   ]
  },
  {
   "cell_type": "code",
   "execution_count": 5,
   "metadata": {},
   "outputs": [
    {
     "name": "stdout",
     "output_type": "stream",
     "text": [
      "          0         1         2        3    4\n",
      "0  0.125811  0.334543  0.038383  0.02359  1.0\n",
      "1  0.094358  0.205873  0.038383  0.02359  1.0\n",
      "2  0.062906  0.257341  0.028787  0.02359  1.0\n",
      "3  0.047179  0.231607  0.047979  0.02359  1.0\n",
      "4  0.110085  0.360277  0.038383  0.02359  1.0\n"
     ]
    },
    {
     "name": "stderr",
     "output_type": "stream",
     "text": [
      "/tmp/ipykernel_128660/1916305621.py:17: FutureWarning: Downcasting behavior in `replace` is deprecated and will be removed in a future version. To retain the old behavior, explicitly call `result.infer_objects(copy=False)`. To opt-in to the future behavior, set `pd.set_option('future.no_silent_downcasting', True)`\n",
      "  df[df.shape[1] - 1] = df[df.shape[1] - 1].replace(\n"
     ]
    }
   ],
   "source": [
    "# Iris dataset\n",
    "df = pd.read_csv(\"data/iris/iris.data\", header=None, index_col=None)\n",
    "df = df[(df[df.shape[1] - 1] != \"Iris-versicolor\")]\n",
    "df = pd.DataFrame(df.to_numpy(), columns=None, index=None)\n",
    "for idx in range(df.shape[1] - 1):\n",
    "    try:\n",
    "        float(df[idx][0])\n",
    "    except ValueError:\n",
    "        df[idx] = pd.factorize(df[idx])[0]\n",
    "\n",
    "    col = df[idx].to_numpy()\n",
    "    min_ = np.min(col)\n",
    "    max_ = np.max(col)\n",
    "    col = (col - min_) / (max_ - min_ + 1e-9)\n",
    "    df[idx] = pd.Series(col, index=None)\n",
    "\n",
    "df[df.shape[1] - 1] = df[df.shape[1] - 1].replace(\n",
    "    {\"Iris-setosa\": 1, \"Iris-virginica\": -1}\n",
    ")\n",
    "df = df.to_numpy().astype(np.float32)\n",
    "df[:, :-1] = df[:, :-1] / np.max(np.linalg.norm(df[:, :-1], axis=1))\n",
    "df = pd.DataFrame(df, index=None, columns=None)\n",
    "\n",
    "if not isinstance(df, pd.DataFrame):\n",
    "    print(\"Error\")\n",
    "    exit()\n",
    "print(df.head(5))\n",
    "df.to_csv(\"data/iris.csv\", header=False, index=False)"
   ]
  },
  {
   "cell_type": "code",
   "execution_count": 6,
   "metadata": {},
   "outputs": [
    {
     "name": "stdout",
     "output_type": "stream",
     "text": [
      "         0         1         2         3         4         5         6   \\\n",
      "0  0.000000  0.045541  0.027820  0.013544  0.048351  0.061528  0.035945   \n",
      "1  0.001274  0.049005  0.023456  0.068771  0.062793  0.071295  0.047252   \n",
      "2  0.002547  0.040780  0.014610  0.065550  0.069229  0.081061  0.056655   \n",
      "3  0.003821  0.040771  0.018020  0.065281  0.065069  0.081061  0.051656   \n",
      "4  0.005095  0.039819  0.019992  0.064270  0.087596  0.100594  0.069866   \n",
      "\n",
      "         7         8         9   ...        14        15        16        17  \\\n",
      "0  0.061177  0.035899  0.077145  ...  0.082179  0.016878  0.126448  0.091215   \n",
      "1  0.079980  0.047205  0.116846  ...  0.127511  0.014660  0.106886  0.116338   \n",
      "2  0.091236  0.056685  0.096522  ...  0.109540  0.009784  0.122611  0.099927   \n",
      "3  0.080245  0.051608  0.102364  ...  0.117486  0.010130  0.122541  0.102853   \n",
      "4  0.108053  0.069895  0.123410  ...  0.144435  0.013386  0.112550  0.092698   \n",
      "\n",
      "         18        19        20        21        22   23  \n",
      "0  0.237244  0.140811  0.144737  0.096529  0.122881  1.0  \n",
      "1  0.241414  0.173773  0.183178  0.116910  0.165878  1.0  \n",
      "2  0.247091  0.157334  0.169596  0.101016  0.147435  1.0  \n",
      "3  0.241132  0.171883  0.182375  0.107973  0.166033  1.0  \n",
      "4  0.245315  0.188400  0.126955  0.099908  0.187199  1.0  \n",
      "\n",
      "[5 rows x 24 columns]\n"
     ]
    }
   ],
   "source": [
    "# Parkinsons dataset\n",
    "df = pd.read_csv(\"data/parkinsons/parkinsons.data\", header=0, index_col=None)\n",
    "new_cols = list(df.columns)\n",
    "new_cols.remove(\"status\")\n",
    "new_cols += [\"status\"]\n",
    "df = df.reindex(columns=new_cols)\n",
    "df.columns = list(range(df.shape[1]))\n",
    "for idx in range(df.shape[1] - 1):\n",
    "    try:\n",
    "        float(df[idx][0])\n",
    "    except ValueError:\n",
    "        df[idx] = pd.factorize(df[idx])[0]\n",
    "\n",
    "    col = df[idx].to_numpy()\n",
    "    min_ = np.min(col)\n",
    "    max_ = np.max(col)\n",
    "    col = (col - min_) / (max_ - min_ + 1e-9)\n",
    "    df[idx] = pd.Series(col, index=None)\n",
    "\n",
    "df[df.shape[1] - 1] = df[df.shape[1] - 1].replace({0: -1})\n",
    "df = df.to_numpy()\n",
    "df[:, :-1] = df[:, :-1] / np.max(np.linalg.norm(df[:, :-1], axis=1))\n",
    "df = pd.DataFrame(df, index=None, columns=None)\n",
    "\n",
    "if not isinstance(df, pd.DataFrame):\n",
    "    print(\"Error\")\n",
    "    exit()\n",
    "\n",
    "print(df.head(5))\n",
    "df.to_csv(\"data/park.csv\", header=False, index=False)"
   ]
  }
 ],
 "metadata": {
  "kernelspec": {
   "display_name": "Python 3",
   "language": "python",
   "name": "python3"
  },
  "language_info": {
   "codemirror_mode": {
    "name": "ipython",
    "version": 3
   },
   "file_extension": ".py",
   "mimetype": "text/x-python",
   "name": "python",
   "nbconvert_exporter": "python",
   "pygments_lexer": "ipython3",
   "version": "3.12.3"
  }
 },
 "nbformat": 4,
 "nbformat_minor": 2
}
